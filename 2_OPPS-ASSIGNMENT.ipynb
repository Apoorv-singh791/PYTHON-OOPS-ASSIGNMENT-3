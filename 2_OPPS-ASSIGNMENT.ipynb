{
 "cells": [
  {
   "cell_type": "markdown",
   "id": "bb5d1511-4bd8-4f12-8b18-e19b951d24f3",
   "metadata": {},
   "source": [
    "Q1. Explain Class and Object with respect to Object-Oriented Programming. Give a suitable example.\n"
   ]
  },
  {
   "cell_type": "markdown",
   "id": "8479cf3a-7188-419f-8892-817cf53ef9ba",
   "metadata": {},
   "source": [
    "A1. In Object-Oriented Programming a class is a blueprint for creating objects. An object is an instance of a class. When a class is defined, no memory is allocated but when an object is created memory is allocate."
   ]
  },
  {
   "cell_type": "code",
   "execution_count": 7,
   "id": "3da669a0-0d78-4ea5-ab82-94b644d9b2e2",
   "metadata": {},
   "outputs": [],
   "source": [
    "class student:\n",
    "    def __init__(self,name,branch):\n",
    "        self.name=name\n",
    "        self.branch=branch"
   ]
  },
  {
   "cell_type": "code",
   "execution_count": 8,
   "id": "43c1f3e3-c7ad-4b52-b45a-0f040ab5fcfd",
   "metadata": {},
   "outputs": [],
   "source": [
    "student1=student('apoorv','cse')"
   ]
  },
  {
   "cell_type": "markdown",
   "id": "e603539f-04a3-4ccb-9c0e-255fa2b1fc2b",
   "metadata": {},
   "source": [
    "Q2. Name the four pillars of OOPs."
   ]
  },
  {
   "cell_type": "markdown",
   "id": "b42bfe79-6d80-459c-9b8b-7f0cd35a7629",
   "metadata": {},
   "source": [
    "A2. the four pillars of opps are :                                                                                                                     \n",
    "   1-> ABSTRACTION                                                                                                                                     \n",
    "   2-> ENCAPSULATION                                                                                                                                   \n",
    "   3-> POLYMORPHISM                                                                                                                                   \n",
    "   4-> INHERITANCE"
   ]
  },
  {
   "cell_type": "markdown",
   "id": "fe74eb9a-2271-46b1-b187-609fd97b9e60",
   "metadata": {},
   "source": [
    "Q3. Explain why the __init__() function is used. Give a suitable example."
   ]
  },
  {
   "cell_type": "markdown",
   "id": "fc33552d-91c6-4e92-ab2c-896b0c2ea1cd",
   "metadata": {},
   "source": [
    "A3. In Python, the __init__() function is used to initialize the object's properties. It is called automatically when an object is created. The __init__() function takes one parameter, which is a reference to the object itself (self). It is used to set values for the object's properties or perform any other operations that are necessary when the object is being created"
   ]
  },
  {
   "cell_type": "code",
   "execution_count": 9,
   "id": "5685c6f3-b7f7-4dad-9d07-a59b8e7df5e5",
   "metadata": {},
   "outputs": [],
   "source": [
    "class student:\n",
    "    def __init__(self,name,branch):\n",
    "        self.name=name\n",
    "        self.branch=branch"
   ]
  },
  {
   "cell_type": "code",
   "execution_count": 10,
   "id": "55e37c99-8c01-4b46-a513-b6b18b4cedfd",
   "metadata": {},
   "outputs": [],
   "source": [
    "std1=student('apoorv','cse')"
   ]
  },
  {
   "cell_type": "code",
   "execution_count": 11,
   "id": "6999f18f-0ea3-49a8-810a-61799128ffe6",
   "metadata": {},
   "outputs": [
    {
     "data": {
      "text/plain": [
       "'apoorv'"
      ]
     },
     "execution_count": 11,
     "metadata": {},
     "output_type": "execute_result"
    }
   ],
   "source": [
    "std1.name"
   ]
  },
  {
   "cell_type": "code",
   "execution_count": 12,
   "id": "a3e27e91-be39-49c0-ab37-efeae0be88f5",
   "metadata": {},
   "outputs": [
    {
     "data": {
      "text/plain": [
       "'cse'"
      ]
     },
     "execution_count": 12,
     "metadata": {},
     "output_type": "execute_result"
    }
   ],
   "source": [
    "std1.branch"
   ]
  },
  {
   "cell_type": "markdown",
   "id": "d90f78da-c421-4425-b6ec-7e1e3913c192",
   "metadata": {},
   "source": [
    "Q4. Why self is used in OOPs?"
   ]
  },
  {
   "cell_type": "markdown",
   "id": "54b0c710-6b54-437d-9090-6a15e2f6a296",
   "metadata": {},
   "source": [
    "A4. In Object-Oriented Programming  “self” is used to refer to the instance of the class. It is a reference to the object that is being created. When we create an object of a class, we use the “self” keyword to refer to that object. We use “self” as the first parameter in each method of a class"
   ]
  },
  {
   "cell_type": "markdown",
   "id": "384cb4d0-0491-4f36-bb39-d42a82439903",
   "metadata": {},
   "source": [
    "Q5. What is inheritance? Give an example for each type of inheritance."
   ]
  },
  {
   "cell_type": "markdown",
   "id": "4f92b78f-fc9c-4097-9b89-6659ad65935a",
   "metadata": {},
   "source": [
    "A5. INHERITANCE is a way to create a relation between the parent class and the children class , by the use of inheritance a class can access the methods or features  of it's parent class withount actually creating it . Inheritance is used to create a hierarchy of classes that share common attributes and methods. It allows developers to reuse code and avoid duplication. the types of inheritance are :                                        single inheritance,                                                                                                                                    multilevel inheritance,                                                                                                                               mutiple inheritance."
   ]
  },
  {
   "cell_type": "markdown",
   "id": "01adc437-ced5-46af-9d7b-d50951ca9d7d",
   "metadata": {},
   "source": [
    "# SINGLE INHERITANCE\n"
   ]
  },
  {
   "cell_type": "code",
   "execution_count": 31,
   "id": "b17670c0-1e21-4854-94f5-99a6132f8412",
   "metadata": {},
   "outputs": [],
   "source": [
    "class class_1:\n",
    "    def class_1(self):\n",
    "        print(\"this is from class_1\")"
   ]
  },
  {
   "cell_type": "code",
   "execution_count": 32,
   "id": "92497c86-d8f9-49fc-801b-d4e197cb2ff1",
   "metadata": {},
   "outputs": [],
   "source": [
    "class class_2(class_1):\n",
    "    def class_2(self):\n",
    "        print(\"this is from class_2\")"
   ]
  },
  {
   "cell_type": "code",
   "execution_count": 33,
   "id": "f7108953-fbc0-41cd-b008-a6ba112e6efa",
   "metadata": {},
   "outputs": [],
   "source": [
    "obj=class_2()"
   ]
  },
  {
   "cell_type": "code",
   "execution_count": 35,
   "id": "dc469364-6f19-49b9-82b7-45ee7fc3725d",
   "metadata": {},
   "outputs": [
    {
     "name": "stdout",
     "output_type": "stream",
     "text": [
      "this is from class_1\n"
     ]
    }
   ],
   "source": [
    "obj. class_1()"
   ]
  },
  {
   "cell_type": "markdown",
   "id": "3d11455f-663f-47b5-8551-3b88aad2f268",
   "metadata": {
    "jupyter": {
     "source_hidden": true
    },
    "tags": []
   },
   "source": [
    "# MULTILEVEL INHERITANCE"
   ]
  },
  {
   "cell_type": "code",
   "execution_count": 36,
   "id": "2e6ff3c9-642b-43da-b6a6-93b7433120c2",
   "metadata": {},
   "outputs": [],
   "source": [
    "class class_1:\n",
    "    def class_1(self):\n",
    "        print(\"this is from class_1\")"
   ]
  },
  {
   "cell_type": "code",
   "execution_count": 37,
   "id": "9d30023b-1a4f-4fc4-b47e-801be2f2d92e",
   "metadata": {},
   "outputs": [],
   "source": [
    "class class_2(class_1):\n",
    "    def class_2(self):\n",
    "        print(\"this is from class_2\")"
   ]
  },
  {
   "cell_type": "code",
   "execution_count": 38,
   "id": "b0519de0-7476-4cb5-96c3-a69ae331d6f3",
   "metadata": {},
   "outputs": [],
   "source": [
    "class class_3(class_2):\n",
    "    def class_3(self):\n",
    "        print(\"this is from class_3\")"
   ]
  },
  {
   "cell_type": "code",
   "execution_count": 39,
   "id": "81cf6395-0429-46e2-ad70-a65c8bda9978",
   "metadata": {},
   "outputs": [],
   "source": [
    "obj=class_3()"
   ]
  },
  {
   "cell_type": "code",
   "execution_count": 41,
   "id": "1afd1256-9343-4542-95fd-0ba425cab0ee",
   "metadata": {},
   "outputs": [
    {
     "name": "stdout",
     "output_type": "stream",
     "text": [
      "this is from class_1\n",
      "this is from class_2\n",
      "this is from class_3\n"
     ]
    }
   ],
   "source": [
    "obj. class_1()\n",
    "obj. class_2()\n",
    "obj. class_3()"
   ]
  },
  {
   "cell_type": "markdown",
   "id": "2aae5e10-ecf3-45cc-9811-456cdd793852",
   "metadata": {},
   "source": [
    "# MULTIPLE INHERITANCE"
   ]
  },
  {
   "cell_type": "code",
   "execution_count": 46,
   "id": "fdaac55c-5281-4a49-a14b-4640c158e58c",
   "metadata": {},
   "outputs": [],
   "source": [
    "class class_1:\n",
    "    def class_1(self):\n",
    "        print(\"this is from class_1\")"
   ]
  },
  {
   "cell_type": "code",
   "execution_count": 47,
   "id": "b6b9fab5-43b8-42be-b168-3b8ec7c0921e",
   "metadata": {},
   "outputs": [],
   "source": [
    "class class_2:\n",
    "    def class_2(self):\n",
    "        print(\"this is from class_2\")"
   ]
  },
  {
   "cell_type": "code",
   "execution_count": 48,
   "id": "5a4c1c88-7873-4093-a154-f4503f709073",
   "metadata": {},
   "outputs": [],
   "source": [
    "class class_3(class_1,class_2):\n",
    "    def class_3(self):\n",
    "        print(\"this is from class_3\")"
   ]
  },
  {
   "cell_type": "code",
   "execution_count": 49,
   "id": "5b5123ab-6a90-435e-83d0-5b73d2853fe6",
   "metadata": {},
   "outputs": [],
   "source": [
    "obj=class_3()"
   ]
  },
  {
   "cell_type": "code",
   "execution_count": 50,
   "id": "d13b996b-d977-4455-8c58-e7872f108452",
   "metadata": {},
   "outputs": [
    {
     "name": "stdout",
     "output_type": "stream",
     "text": [
      "this is from class_1\n",
      "this is from class_2\n",
      "this is from class_3\n"
     ]
    }
   ],
   "source": [
    "obj. class_1()\n",
    "obj. class_2()\n",
    "obj. class_3()"
   ]
  },
  {
   "cell_type": "code",
   "execution_count": null,
   "id": "c7804924-ca26-48ec-b02a-92c4adfe976c",
   "metadata": {},
   "outputs": [],
   "source": []
  }
 ],
 "metadata": {
  "kernelspec": {
   "display_name": "Python 3 (ipykernel)",
   "language": "python",
   "name": "python3"
  },
  "language_info": {
   "codemirror_mode": {
    "name": "ipython",
    "version": 3
   },
   "file_extension": ".py",
   "mimetype": "text/x-python",
   "name": "python",
   "nbconvert_exporter": "python",
   "pygments_lexer": "ipython3",
   "version": "3.10.8"
  }
 },
 "nbformat": 4,
 "nbformat_minor": 5
}
